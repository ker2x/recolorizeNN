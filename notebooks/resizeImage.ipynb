{
 "cells": [
  {
   "cell_type": "code",
   "execution_count": 21,
   "metadata": {
    "collapsed": true
   },
   "outputs": [],
   "source": [
    "import tensorflow as tf\n",
    "import pathlib\n",
    "import os\n",
    "import time"
   ]
  },
  {
   "cell_type": "code",
   "execution_count": 22,
   "outputs": [],
   "source": [
    "# Setup path\n",
    "originalDatadir = pathlib.Path(\"/Volumes/T7/coco/train2017\")\n",
    "destinationDatadir = \"/Volumes/T7/coco/train2017-128\"\n",
    "destinationDatadir_bw = \"/Volumes/T7/coco/train2017-128bw\""
   ],
   "metadata": {
    "collapsed": false,
    "pycharm": {
     "name": "#%%\n"
    }
   }
  },
  {
   "cell_type": "code",
   "execution_count": 23,
   "outputs": [],
   "source": [
    "# List image in directory\n",
    "def list_image(path: pathlib.Path):\n",
    "    imglist = path.glob(\"0*.jpg\")\n",
    "    return [str(img_path) for img_path in imglist]\n"
   ],
   "metadata": {
    "collapsed": false,
    "pycharm": {
     "name": "#%%\n"
    }
   }
  },
  {
   "cell_type": "code",
   "execution_count": 24,
   "outputs": [],
   "source": [
    "# a bit dirty but it works\n",
    "def resize_img(path: str):\n",
    "    file = tf.io.read_file(path)\n",
    "    image = tf.image.decode_jpeg(file, channels=3)\n",
    "#    shape = tf.shape(image)\n",
    "#    w, h = shape[0], shape[1]\n",
    "    img = tf.image.resize(image, [128,128])\n",
    "    img = tf.cast(img, tf.uint8)\n",
    "#    bwimg = tf.image.rgb_to_grayscale(img)\n",
    "    resized_jpg = tf.io.encode_jpeg(img, optimize_size=True)\n",
    "#    resizedbw_jpg = tf.io.encode_jpeg(bwimg, optimize_size=True)\n",
    "    return resized_jpg"
   ],
   "metadata": {
    "collapsed": false,
    "pycharm": {
     "name": "#%%\n"
    }
   }
  },
  {
   "cell_type": "code",
   "execution_count": 25,
   "outputs": [
    {
     "ename": "KeyboardInterrupt",
     "evalue": "",
     "output_type": "error",
     "traceback": [
      "\u001B[0;31m---------------------------------------------------------------------------\u001B[0m",
      "\u001B[0;31mKeyboardInterrupt\u001B[0m                         Traceback (most recent call last)",
      "\u001B[0;32m/var/folders/s7/7m1rt8kx3jq7c02mwclmnvf80000gn/T/ipykernel_41140/653538696.py\u001B[0m in \u001B[0;36m<module>\u001B[0;34m\u001B[0m\n\u001B[1;32m     10\u001B[0m     \u001B[0;31m# save\u001B[0m\u001B[0;34m\u001B[0m\u001B[0;34m\u001B[0m\u001B[0m\n\u001B[1;32m     11\u001B[0m \u001B[0;31m#    tf.io.write_file(bwpath, resizedbw)\u001B[0m\u001B[0;34m\u001B[0m\u001B[0;34m\u001B[0m\u001B[0m\n\u001B[0;32m---> 12\u001B[0;31m     \u001B[0mtf\u001B[0m\u001B[0;34m.\u001B[0m\u001B[0mio\u001B[0m\u001B[0;34m.\u001B[0m\u001B[0mwrite_file\u001B[0m\u001B[0;34m(\u001B[0m\u001B[0mcolorpath\u001B[0m\u001B[0;34m,\u001B[0m \u001B[0mresized\u001B[0m\u001B[0;34m)\u001B[0m\u001B[0;34m\u001B[0m\u001B[0;34m\u001B[0m\u001B[0m\n\u001B[0m\u001B[1;32m     13\u001B[0m \u001B[0;34m\u001B[0m\u001B[0m\n\u001B[1;32m     14\u001B[0m \u001B[0mprint\u001B[0m\u001B[0;34m(\u001B[0m\u001B[0;34m\"Elapsed : {}s\"\u001B[0m\u001B[0;34m.\u001B[0m\u001B[0mformat\u001B[0m\u001B[0;34m(\u001B[0m\u001B[0mtime\u001B[0m\u001B[0;34m.\u001B[0m\u001B[0mtime\u001B[0m\u001B[0;34m(\u001B[0m\u001B[0;34m)\u001B[0m \u001B[0;34m-\u001B[0m \u001B[0mstart\u001B[0m\u001B[0;34m)\u001B[0m\u001B[0;34m)\u001B[0m\u001B[0;34m\u001B[0m\u001B[0;34m\u001B[0m\u001B[0m\n",
      "\u001B[0;32m~/miniforge3/envs/Tensorflow3/lib/python3.9/site-packages/tensorflow/python/ops/gen_io_ops.py\u001B[0m in \u001B[0;36mwrite_file\u001B[0;34m(filename, contents, name)\u001B[0m\n\u001B[1;32m   2279\u001B[0m       \u001B[0;32mif\u001B[0m \u001B[0m_result\u001B[0m \u001B[0;32mis\u001B[0m \u001B[0;32mnot\u001B[0m \u001B[0mNotImplemented\u001B[0m\u001B[0;34m:\u001B[0m\u001B[0;34m\u001B[0m\u001B[0;34m\u001B[0m\u001B[0m\n\u001B[1;32m   2280\u001B[0m         \u001B[0;32mreturn\u001B[0m \u001B[0m_result\u001B[0m\u001B[0;34m\u001B[0m\u001B[0;34m\u001B[0m\u001B[0m\n\u001B[0;32m-> 2281\u001B[0;31m       return write_file_eager_fallback(\n\u001B[0m\u001B[1;32m   2282\u001B[0m           filename, contents, name=name, ctx=_ctx)\n\u001B[1;32m   2283\u001B[0m     \u001B[0;32mexcept\u001B[0m \u001B[0m_core\u001B[0m\u001B[0;34m.\u001B[0m\u001B[0m_SymbolicException\u001B[0m\u001B[0;34m:\u001B[0m\u001B[0;34m\u001B[0m\u001B[0;34m\u001B[0m\u001B[0m\n",
      "\u001B[0;32m~/miniforge3/envs/Tensorflow3/lib/python3.9/site-packages/tensorflow/python/ops/gen_io_ops.py\u001B[0m in \u001B[0;36mwrite_file_eager_fallback\u001B[0;34m(filename, contents, name, ctx)\u001B[0m\n\u001B[1;32m   2318\u001B[0m   \u001B[0m_inputs_flat\u001B[0m \u001B[0;34m=\u001B[0m \u001B[0;34m[\u001B[0m\u001B[0mfilename\u001B[0m\u001B[0;34m,\u001B[0m \u001B[0mcontents\u001B[0m\u001B[0;34m]\u001B[0m\u001B[0;34m\u001B[0m\u001B[0;34m\u001B[0m\u001B[0m\n\u001B[1;32m   2319\u001B[0m   \u001B[0m_attrs\u001B[0m \u001B[0;34m=\u001B[0m \u001B[0;32mNone\u001B[0m\u001B[0;34m\u001B[0m\u001B[0;34m\u001B[0m\u001B[0m\n\u001B[0;32m-> 2320\u001B[0;31m   _result = _execute.execute(b\"WriteFile\", 0, inputs=_inputs_flat,\n\u001B[0m\u001B[1;32m   2321\u001B[0m                              attrs=_attrs, ctx=ctx, name=name)\n\u001B[1;32m   2322\u001B[0m   \u001B[0m_result\u001B[0m \u001B[0;34m=\u001B[0m \u001B[0;32mNone\u001B[0m\u001B[0;34m\u001B[0m\u001B[0;34m\u001B[0m\u001B[0m\n",
      "\u001B[0;32m~/miniforge3/envs/Tensorflow3/lib/python3.9/site-packages/tensorflow/python/eager/execute.py\u001B[0m in \u001B[0;36mquick_execute\u001B[0;34m(op_name, num_outputs, inputs, attrs, ctx, name)\u001B[0m\n\u001B[1;32m     56\u001B[0m   \u001B[0;32mtry\u001B[0m\u001B[0;34m:\u001B[0m\u001B[0;34m\u001B[0m\u001B[0;34m\u001B[0m\u001B[0m\n\u001B[1;32m     57\u001B[0m     \u001B[0mctx\u001B[0m\u001B[0;34m.\u001B[0m\u001B[0mensure_initialized\u001B[0m\u001B[0;34m(\u001B[0m\u001B[0;34m)\u001B[0m\u001B[0;34m\u001B[0m\u001B[0;34m\u001B[0m\u001B[0m\n\u001B[0;32m---> 58\u001B[0;31m     tensors = pywrap_tfe.TFE_Py_Execute(ctx._handle, device_name, op_name,\n\u001B[0m\u001B[1;32m     59\u001B[0m                                         inputs, attrs, num_outputs)\n\u001B[1;32m     60\u001B[0m   \u001B[0;32mexcept\u001B[0m \u001B[0mcore\u001B[0m\u001B[0;34m.\u001B[0m\u001B[0m_NotOkStatusException\u001B[0m \u001B[0;32mas\u001B[0m \u001B[0me\u001B[0m\u001B[0;34m:\u001B[0m\u001B[0;34m\u001B[0m\u001B[0;34m\u001B[0m\u001B[0m\n",
      "\u001B[0;31mKeyboardInterrupt\u001B[0m: "
     ]
    }
   ],
   "source": [
    "start = time.time()\n",
    "for img in list_image(originalDatadir):\n",
    "    # get filename\n",
    "    colorpath = os.path.join(destinationDatadir, os.path.basename(img))\n",
    "#    bwpath = os.path.join(destinationDatadir_bw, os.path.basename(img))\n",
    "\n",
    "    # resize and convert to bw\n",
    "    resized = resize_img(img)\n",
    "\n",
    "    # save\n",
    "#    tf.io.write_file(bwpath, resizedbw)\n",
    "    tf.io.write_file(colorpath, resized)\n",
    "\n",
    "print(\"Elapsed : {}s\".format(time.time() - start))\n"
   ],
   "metadata": {
    "collapsed": false,
    "pycharm": {
     "name": "#%%\n"
    }
   }
  }
 ],
 "metadata": {
  "kernelspec": {
   "display_name": "Python 3",
   "language": "python",
   "name": "python3"
  },
  "language_info": {
   "codemirror_mode": {
    "name": "ipython",
    "version": 2
   },
   "file_extension": ".py",
   "mimetype": "text/x-python",
   "name": "python",
   "nbconvert_exporter": "python",
   "pygments_lexer": "ipython2",
   "version": "2.7.6"
  }
 },
 "nbformat": 4,
 "nbformat_minor": 0
}
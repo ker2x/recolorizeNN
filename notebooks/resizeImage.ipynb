{
 "cells": [
  {
   "cell_type": "code",
   "execution_count": 1,
   "metadata": {
    "collapsed": true
   },
   "outputs": [],
   "source": [
    "import tensorflow as tf\n",
    "import pathlib\n",
    "import os\n",
    "import time"
   ]
  },
  {
   "cell_type": "code",
   "execution_count": 2,
   "outputs": [],
   "source": [
    "# Setup path\n",
    "originalDatadir = pathlib.Path(\"/Volumes/T7/coco/val2017\")\n",
    "destinationDatadir = \"/Volumes/T7/coco/recolorize/color\"\n",
    "destinationDatadir_bw = \"/Volumes/T7/coco/recolorize/bw\""
   ],
   "metadata": {
    "collapsed": false,
    "pycharm": {
     "name": "#%%\n"
    }
   }
  },
  {
   "cell_type": "code",
   "execution_count": 3,
   "outputs": [],
   "source": [
    "# List image in directory\n",
    "def list_image(path: pathlib.Path):\n",
    "    imglist = path.glob(\"*.jpg\")\n",
    "    return [str(img_path) for img_path in imglist]\n"
   ],
   "metadata": {
    "collapsed": false,
    "pycharm": {
     "name": "#%%\n"
    }
   }
  },
  {
   "cell_type": "code",
   "execution_count": 4,
   "outputs": [],
   "source": [
    "# a bit dirty but it works\n",
    "def resize_img(path: str):\n",
    "    file = tf.io.read_file(path)\n",
    "    image = tf.image.decode_jpeg(file, channels=3)\n",
    "    shape = tf.shape(image)\n",
    "    w, h = shape[0], shape[1]\n",
    "    img = tf.image.resize_with_crop_or_pad(image=image, target_height=256, target_width=256)\n",
    "    bwimg = tf.image.rgb_to_grayscale(img)\n",
    "    resized_jpg = tf.io.encode_jpeg(img, optimize_size=True)\n",
    "    resizedbw_jpg = tf.io.encode_jpeg(bwimg, optimize_size=True)\n",
    "    return resized_jpg, resizedbw_jpg"
   ],
   "metadata": {
    "collapsed": false,
    "pycharm": {
     "name": "#%%\n"
    }
   }
  },
  {
   "cell_type": "code",
   "execution_count": 5,
   "outputs": [
    {
     "name": "stderr",
     "output_type": "stream",
     "text": [
      "2021-12-14 21:06:37.354698: I tensorflow/core/common_runtime/pluggable_device/pluggable_device_factory.cc:305] Could not identify NUMA node of platform GPU ID 0, defaulting to 0. Your kernel may not have been built with NUMA support.\n",
      "2021-12-14 21:06:37.354791: I tensorflow/core/common_runtime/pluggable_device/pluggable_device_factory.cc:271] Created TensorFlow device (/job:localhost/replica:0/task:0/device:GPU:0 with 0 MB memory) -> physical PluggableDevice (device: 0, name: METAL, pci bus id: <undefined>)\n"
     ]
    },
    {
     "name": "stdout",
     "output_type": "stream",
     "text": [
      "Metal device set to: Apple M1\n",
      "Elapsed : 60.558111906051636s\n"
     ]
    }
   ],
   "source": [
    "start = time.time()\n",
    "for img in list_image(originalDatadir):\n",
    "    # get filename\n",
    "    colorpath = os.path.join(destinationDatadir, os.path.basename(img))\n",
    "    bwpath = os.path.join(destinationDatadir_bw, os.path.basename(img))\n",
    "\n",
    "    # resize and convert to bw\n",
    "    resized, resizedbw = resize_img(img)\n",
    "\n",
    "    # save\n",
    "    tf.io.write_file(bwpath, resizedbw)\n",
    "    tf.io.write_file(colorpath, resized)\n",
    "\n",
    "print(\"Elapsed : {}s\".format(time.time() - start))\n"
   ],
   "metadata": {
    "collapsed": false,
    "pycharm": {
     "name": "#%%\n"
    }
   }
  }
 ],
 "metadata": {
  "kernelspec": {
   "display_name": "Python 3",
   "language": "python",
   "name": "python3"
  },
  "language_info": {
   "codemirror_mode": {
    "name": "ipython",
    "version": 2
   },
   "file_extension": ".py",
   "mimetype": "text/x-python",
   "name": "python",
   "nbconvert_exporter": "python",
   "pygments_lexer": "ipython2",
   "version": "2.7.6"
  }
 },
 "nbformat": 4,
 "nbformat_minor": 0
}
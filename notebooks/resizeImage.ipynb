{
 "cells": [
  {
   "cell_type": "code",
   "execution_count": 156,
   "metadata": {
    "collapsed": true
   },
   "outputs": [],
   "source": [
    "import tensorflow as tf\n",
    "import pathlib\n",
    "import os\n",
    "import time"
   ]
  },
  {
   "cell_type": "code",
   "execution_count": 157,
   "outputs": [],
   "source": [
    "# Setup path\n",
    "originalDatadir = pathlib.Path(\"/Volumes/T7/coco/val2017\")\n",
    "destinationDatadir = \"/Volumes/T7/coco/recolorize/color\"\n",
    "destinationDatadir_bw = \"/Volumes/T7/coco/recolorize/bw\""
   ],
   "metadata": {
    "collapsed": false,
    "pycharm": {
     "name": "#%%\n"
    }
   }
  },
  {
   "cell_type": "code",
   "execution_count": 158,
   "outputs": [],
   "source": [
    "# List image in directory\n",
    "def list_image(path: pathlib.Path):\n",
    "    imglist = path.glob(\"*.jpg\")\n",
    "    return [str(img_path) for img_path in imglist]\n"
   ],
   "metadata": {
    "collapsed": false,
    "pycharm": {
     "name": "#%%\n"
    }
   }
  },
  {
   "cell_type": "code",
   "execution_count": 159,
   "outputs": [],
   "source": [
    "# a bit dirty but it works\n",
    "def resize_img(path: str):\n",
    "    file = tf.io.read_file(path)\n",
    "    image = tf.image.decode_jpeg(file, channels=3)\n",
    "    shape = tf.shape(image)\n",
    "    w, h = shape[0], shape[1]\n",
    "    img = tf.image.resize_with_crop_or_pad(image=image, target_height=256, target_width=256)\n",
    "    bwimg = tf.image.rgb_to_grayscale(img)\n",
    "    resized_jpg = tf.io.encode_jpeg(img, optimize_size=True)\n",
    "    resizedbw_jpg = tf.io.encode_jpeg(bwimg, optimize_size=True)\n",
    "    return resized_jpg, resizedbw_jpg"
   ],
   "metadata": {
    "collapsed": false,
    "pycharm": {
     "name": "#%%\n"
    }
   }
  },
  {
   "cell_type": "code",
   "execution_count": 160,
   "outputs": [
    {
     "name": "stdout",
     "output_type": "stream",
     "text": [
      "Elapsed : 60.877880811691284s\n"
     ]
    }
   ],
   "source": [
    "start = time.time()\n",
    "for img in list_image(originalDatadir):\n",
    "    # get filename\n",
    "    colorpath = os.path.join(destinationDatadir, os.path.basename(img))\n",
    "    bwpath = os.path.join(destinationDatadir_bw, os.path.basename(img))\n",
    "\n",
    "    # resize and convert to bw\n",
    "    resized, resizedbw = resize_img(img)\n",
    "\n",
    "    # save\n",
    "    tf.io.write_file(bwpath, resized)\n",
    "    tf.io.write_file(colorpath, resizedbw)\n",
    "\n",
    "print(\"Elapsed : {}s\".format(time.time() - start))\n"
   ],
   "metadata": {
    "collapsed": false,
    "pycharm": {
     "name": "#%%\n"
    }
   }
  }
 ],
 "metadata": {
  "kernelspec": {
   "display_name": "Python 3",
   "language": "python",
   "name": "python3"
  },
  "language_info": {
   "codemirror_mode": {
    "name": "ipython",
    "version": 2
   },
   "file_extension": ".py",
   "mimetype": "text/x-python",
   "name": "python",
   "nbconvert_exporter": "python",
   "pygments_lexer": "ipython2",
   "version": "2.7.6"
  }
 },
 "nbformat": 4,
 "nbformat_minor": 0
}